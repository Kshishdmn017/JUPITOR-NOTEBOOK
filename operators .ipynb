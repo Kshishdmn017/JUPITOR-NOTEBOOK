{
 "cells": [
  {
   "cell_type": "markdown",
   "id": "afe13840",
   "metadata": {},
   "source": [
    "# comparison operator "
   ]
  },
  {
   "cell_type": "code",
   "execution_count": 1,
   "id": "0caaeb68",
   "metadata": {},
   "outputs": [
    {
     "data": {
      "text/plain": [
       "False"
      ]
     },
     "execution_count": 1,
     "metadata": {},
     "output_type": "execute_result"
    }
   ],
   "source": [
    "10 == 50   #equal to "
   ]
  },
  {
   "cell_type": "code",
   "execution_count": 3,
   "id": "62e9094a",
   "metadata": {},
   "outputs": [
    {
     "data": {
      "text/plain": [
       "True"
      ]
     },
     "execution_count": 3,
     "metadata": {},
     "output_type": "execute_result"
    }
   ],
   "source": [
    "10 != 50   #not equal to "
   ]
  },
  {
   "cell_type": "code",
   "execution_count": 4,
   "id": "db3aeb2b",
   "metadata": {},
   "outputs": [
    {
     "data": {
      "text/plain": [
       "True"
      ]
     },
     "execution_count": 4,
     "metadata": {},
     "output_type": "execute_result"
    }
   ],
   "source": [
    "10<=10  #less than equal to "
   ]
  },
  {
   "cell_type": "code",
   "execution_count": 5,
   "id": "f250c2ab",
   "metadata": {},
   "outputs": [
    {
     "data": {
      "text/plain": [
       "True"
      ]
     },
     "execution_count": 5,
     "metadata": {},
     "output_type": "execute_result"
    }
   ],
   "source": [
    "50>=10  #greater than equal to "
   ]
  },
  {
   "cell_type": "code",
   "execution_count": 6,
   "id": "46e0a616",
   "metadata": {},
   "outputs": [
    {
     "data": {
      "text/plain": [
       "True"
      ]
     },
     "execution_count": 6,
     "metadata": {},
     "output_type": "execute_result"
    }
   ],
   "source": [
    "50>10  #greater than  "
   ]
  },
  {
   "cell_type": "code",
   "execution_count": 8,
   "id": "a448edc8",
   "metadata": {},
   "outputs": [
    {
     "data": {
      "text/plain": [
       "True"
      ]
     },
     "execution_count": 8,
     "metadata": {},
     "output_type": "execute_result"
    }
   ],
   "source": [
    "10<50  #less than"
   ]
  },
  {
   "cell_type": "markdown",
   "id": "4467c59b",
   "metadata": {},
   "source": [
    "# Logical operator "
   ]
  },
  {
   "cell_type": "code",
   "execution_count": 13,
   "id": "914de798",
   "metadata": {},
   "outputs": [
    {
     "data": {
      "text/plain": [
       "True"
      ]
     },
     "execution_count": 13,
     "metadata": {},
     "output_type": "execute_result"
    }
   ],
   "source": [
    "(10>50) or (50>10) #at least one statement is true "
   ]
  },
  {
   "cell_type": "code",
   "execution_count": 11,
   "id": "858a620a",
   "metadata": {
    "scrolled": true
   },
   "outputs": [
    {
     "data": {
      "text/plain": [
       "False"
      ]
     },
     "execution_count": 11,
     "metadata": {},
     "output_type": "execute_result"
    }
   ],
   "source": [
    "(10>50) and (50>10) #both should be correct then it print true "
   ]
  },
  {
   "cell_type": "code",
   "execution_count": 12,
   "id": "f420487a",
   "metadata": {},
   "outputs": [
    {
     "data": {
      "text/plain": [
       "True"
      ]
     },
     "execution_count": 12,
     "metadata": {},
     "output_type": "execute_result"
    }
   ],
   "source": [
    "(10<50) and (50>10) "
   ]
  },
  {
   "cell_type": "code",
   "execution_count": 14,
   "id": "5fd4d1f0",
   "metadata": {},
   "outputs": [
    {
     "data": {
      "text/plain": [
       "True"
      ]
     },
     "execution_count": 14,
     "metadata": {},
     "output_type": "execute_result"
    }
   ],
   "source": [
    "('vanilla'>'Chocolate') and (50>10)"
   ]
  },
  {
   "cell_type": "markdown",
   "id": "de356369",
   "metadata": {},
   "source": [
    "# membership operators "
   ]
  },
  {
   "cell_type": "code",
   "execution_count": 18,
   "id": "6a6b3a07",
   "metadata": {},
   "outputs": [
    {
     "data": {
      "text/plain": [
       "True"
      ]
     },
     "execution_count": 18,
     "metadata": {},
     "output_type": "execute_result"
    }
   ],
   "source": [
    "ice_creams ='i love Chocolate ice crream'\n",
    "\n",
    "'love' in  'i love Chocolate ice crream'"
   ]
  },
  {
   "cell_type": "code",
   "execution_count": 20,
   "id": "e79fe8ee",
   "metadata": {},
   "outputs": [
    {
     "data": {
      "text/plain": [
       "True"
      ]
     },
     "execution_count": 20,
     "metadata": {},
     "output_type": "execute_result"
    }
   ],
   "source": [
    "scoops =[1,2,3,4,5]\n",
    "\n",
    "6 not in scoops "
   ]
  },
  {
   "cell_type": "code",
   "execution_count": null,
   "id": "d8396e47",
   "metadata": {},
   "outputs": [],
   "source": []
  },
  {
   "cell_type": "code",
   "execution_count": null,
   "id": "5baa5870",
   "metadata": {},
   "outputs": [],
   "source": []
  },
  {
   "cell_type": "code",
   "execution_count": null,
   "id": "30e14a13",
   "metadata": {},
   "outputs": [],
   "source": []
  },
  {
   "cell_type": "code",
   "execution_count": null,
   "id": "c40b09df",
   "metadata": {},
   "outputs": [],
   "source": []
  },
  {
   "cell_type": "code",
   "execution_count": null,
   "id": "0274372e",
   "metadata": {},
   "outputs": [],
   "source": []
  }
 ],
 "metadata": {
  "kernelspec": {
   "display_name": "Python 3 (ipykernel)",
   "language": "python",
   "name": "python3"
  },
  "language_info": {
   "codemirror_mode": {
    "name": "ipython",
    "version": 3
   },
   "file_extension": ".py",
   "mimetype": "text/x-python",
   "name": "python",
   "nbconvert_exporter": "python",
   "pygments_lexer": "ipython3",
   "version": "3.10.9"
  }
 },
 "nbformat": 4,
 "nbformat_minor": 5
}
