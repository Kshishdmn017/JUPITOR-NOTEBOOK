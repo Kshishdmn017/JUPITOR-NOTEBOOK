{
 "cells": [
  {
   "cell_type": "markdown",
   "id": "f876eeae",
   "metadata": {},
   "source": [
    "# if - Elif -Else Statements "
   ]
  },
  {
   "cell_type": "code",
   "execution_count": 8,
   "id": "c3895835",
   "metadata": {},
   "outputs": [
    {
     "name": "stdout",
     "output_type": "stream",
     "text": [
      "It worked!\n"
     ]
    }
   ],
   "source": [
    "if 25>10:\n",
    "    print ('It worked!')"
   ]
  },
  {
   "cell_type": "code",
   "execution_count": 11,
   "id": "1ede023b",
   "metadata": {},
   "outputs": [
    {
     "name": "stdout",
     "output_type": "stream",
     "text": [
      "It didnot work ...\n"
     ]
    }
   ],
   "source": [
    "if 25<10:\n",
    "    print ('It worked!')\n",
    "else: \n",
    "    print('It didnot work ...')"
   ]
  },
  {
   "cell_type": "code",
   "execution_count": 25,
   "id": "146371ac",
   "metadata": {},
   "outputs": [
    {
     "name": "stdout",
     "output_type": "stream",
     "text": [
      "It worked!\n",
      "this nested if staement worked!\n"
     ]
    }
   ],
   "source": [
    "if (5>10) or (1<3):\n",
    "    print ('It worked!')\n",
    "    if 10>5:\n",
    "        print ('this nested if staement worked!')\n",
    "elif 25>30:\n",
    "    print('ELIF worked 1')\n",
    "elif 20>19:\n",
    "    print('ELIF worked 2')\n",
    "elif 20>19:\n",
    "    print('ELIF worked 3')\n",
    "elif 16>19:\n",
    "    print('ELIF worked 4')    \n",
    "else: \n",
    "    print('It didnot work ...')"
   ]
  },
  {
   "cell_type": "markdown",
   "id": "b2365bd5",
   "metadata": {},
   "source": [
    "# For Loops"
   ]
  },
  {
   "cell_type": "code",
   "execution_count": 37,
   "id": "d692c1e2",
   "metadata": {},
   "outputs": [],
   "source": [
    "Integers = [1,2,3,4,5]\n"
   ]
  },
  {
   "cell_type": "code",
   "execution_count": 41,
   "id": "f623a5a8",
   "metadata": {},
   "outputs": [
    {
     "name": "stdout",
     "output_type": "stream",
     "text": [
      "2\n",
      "4\n",
      "6\n",
      "8\n",
      "10\n"
     ]
    }
   ],
   "source": [
    "for Jelly in Integers:\n",
    "    print(Jelly + Jelly)"
   ]
  },
  {
   "cell_type": "code",
   "execution_count": 44,
   "id": "1bad28d6",
   "metadata": {},
   "outputs": [],
   "source": [
    "ice_cream_dict = {'name':'sebian', 'weekly intake' : 5, 'favourite icecream': ['MNC','Chocolate']}"
   ]
  },
  {
   "cell_type": "code",
   "execution_count": 47,
   "id": "be9c404e",
   "metadata": {},
   "outputs": [
    {
     "name": "stdout",
     "output_type": "stream",
     "text": [
      "name\n",
      "weekly intake\n",
      "favourite icecream\n"
     ]
    }
   ],
   "source": [
    "for cream in ice_cream_dict.keys():\n",
    "    print(cream)"
   ]
  },
  {
   "cell_type": "code",
   "execution_count": 52,
   "id": "8392c472",
   "metadata": {},
   "outputs": [
    {
     "name": "stdout",
     "output_type": "stream",
     "text": [
      "sebian\n",
      "5\n",
      "['MNC', 'Chocolate']\n"
     ]
    }
   ],
   "source": [
    "for name in ice_cream_dict.values():\n",
    "    print(name)"
   ]
  },
  {
   "cell_type": "code",
   "execution_count": 51,
   "id": "9f315904",
   "metadata": {},
   "outputs": [
    {
     "name": "stdout",
     "output_type": "stream",
     "text": [
      "name = sebian\n",
      "weekly intake = 5\n",
      "favourite icecream = ['MNC', 'Chocolate']\n"
     ]
    }
   ],
   "source": [
    "for key, value in ice_cream_dict.items():\n",
    "    print(key,'=',value)"
   ]
  },
  {
   "cell_type": "markdown",
   "id": "7d1daf2e",
   "metadata": {},
   "source": [
    "# Nested Loops "
   ]
  },
  {
   "cell_type": "code",
   "execution_count": 53,
   "id": "30083e9e",
   "metadata": {},
   "outputs": [],
   "source": [
    "flavors =['Vanilla','Chocolate','Cookie Dough']\n",
    "toppings =['Hot Fudge','oreos','Marshmallows']"
   ]
  },
  {
   "cell_type": "code",
   "execution_count": 54,
   "id": "ebd4c87b",
   "metadata": {},
   "outputs": [
    {
     "name": "stdout",
     "output_type": "stream",
     "text": [
      "Vanilla topped with Hot Fudge\n",
      "Vanilla topped with oreos\n",
      "Vanilla topped with Marshmallows\n",
      "Chocolate topped with Hot Fudge\n",
      "Chocolate topped with oreos\n",
      "Chocolate topped with Marshmallows\n",
      "Cookie Dough topped with Hot Fudge\n",
      "Cookie Dough topped with oreos\n",
      "Cookie Dough topped with Marshmallows\n"
     ]
    }
   ],
   "source": [
    "for A in flavors:\n",
    "    for B in toppings:\n",
    "        print (A,'topped with',B)"
   ]
  },
  {
   "cell_type": "markdown",
   "id": "32653929",
   "metadata": {},
   "source": [
    "# Functions"
   ]
  },
  {
   "cell_type": "code",
   "execution_count": 56,
   "id": "6b9d0d32",
   "metadata": {},
   "outputs": [],
   "source": [
    "def first_function():\n",
    "    print('MyFirstFunction')"
   ]
  },
  {
   "cell_type": "code",
   "execution_count": 57,
   "id": "3d38b8be",
   "metadata": {},
   "outputs": [
    {
     "name": "stdout",
     "output_type": "stream",
     "text": [
      "MyFirstFunction\n"
     ]
    }
   ],
   "source": [
    "first_function()"
   ]
  },
  {
   "cell_type": "code",
   "execution_count": 60,
   "id": "bbe8426a",
   "metadata": {},
   "outputs": [],
   "source": [
    "#SQAURING A NUMBER  \n",
    "def number_squared(number):\n",
    "    print(number**2)\n",
    "    "
   ]
  },
  {
   "cell_type": "code",
   "execution_count": 63,
   "id": "7b2b7a25",
   "metadata": {},
   "outputs": [
    {
     "name": "stdout",
     "output_type": "stream",
     "text": [
      "15129\n"
     ]
    }
   ],
   "source": [
    "number_squared(123)"
   ]
  },
  {
   "cell_type": "code",
   "execution_count": 79,
   "id": "d184c388",
   "metadata": {},
   "outputs": [],
   "source": [
    "#to put a formula  argumnets \n",
    "\n",
    "args_tuple = (5,2,3,4,5)\n",
    "\n",
    "def number_args(*number):\n",
    "    print(number[0]*number[1]/number[2])"
   ]
  },
  {
   "cell_type": "code",
   "execution_count": 80,
   "id": "8363f528",
   "metadata": {},
   "outputs": [
    {
     "name": "stdout",
     "output_type": "stream",
     "text": [
      "3.3333333333333335\n"
     ]
    }
   ],
   "source": [
    "number_args(*args_tuple)"
   ]
  },
  {
   "cell_type": "code",
   "execution_count": 87,
   "id": "0a3a1cd9",
   "metadata": {},
   "outputs": [],
   "source": [
    "#MULTIPLYING A NUMBER BY ANY POWER VALUE \n",
    "def number_squared_custom(number,power):\n",
    "    print(number**power)"
   ]
  },
  {
   "cell_type": "code",
   "execution_count": 90,
   "id": "24b8cb02",
   "metadata": {},
   "outputs": [
    {
     "name": "stdout",
     "output_type": "stream",
     "text": [
      "64\n"
     ]
    }
   ],
   "source": [
    "number_squared_custom(power= 6,number = 2)"
   ]
  },
  {
   "cell_type": "code",
   "execution_count": 117,
   "id": "d82b2e84",
   "metadata": {},
   "outputs": [],
   "source": [
    "#keyword argument \n",
    "def number_kwarg(**number):\n",
    "    print('My number is :' + number ['integer'] + ' and My other number is :' + number['integer2'])\n",
    "    "
   ]
  },
  {
   "cell_type": "code",
   "execution_count": 118,
   "id": "0c8f8ede",
   "metadata": {},
   "outputs": [
    {
     "name": "stdout",
     "output_type": "stream",
     "text": [
      "My number is : 2309 and My other number is : 4\n"
     ]
    }
   ],
   "source": [
    "number_kwarg(integer = ' 2309', integer2 =' 4')"
   ]
  },
  {
   "cell_type": "markdown",
   "id": "61672d3f",
   "metadata": {},
   "source": []
  },
  {
   "cell_type": "code",
   "execution_count": null,
   "id": "02d9f294",
   "metadata": {},
   "outputs": [],
   "source": []
  },
  {
   "cell_type": "code",
   "execution_count": null,
   "id": "8529c4b6",
   "metadata": {},
   "outputs": [],
   "source": []
  },
  {
   "cell_type": "code",
   "execution_count": null,
   "id": "89c1ff9f",
   "metadata": {},
   "outputs": [],
   "source": []
  },
  {
   "cell_type": "code",
   "execution_count": null,
   "id": "b65b5277",
   "metadata": {},
   "outputs": [],
   "source": []
  },
  {
   "cell_type": "code",
   "execution_count": null,
   "id": "08269025",
   "metadata": {},
   "outputs": [],
   "source": []
  },
  {
   "cell_type": "code",
   "execution_count": null,
   "id": "4b79e20f",
   "metadata": {},
   "outputs": [],
   "source": []
  },
  {
   "cell_type": "code",
   "execution_count": null,
   "id": "040b02c3",
   "metadata": {},
   "outputs": [],
   "source": []
  },
  {
   "cell_type": "code",
   "execution_count": null,
   "id": "d108ca43",
   "metadata": {},
   "outputs": [],
   "source": []
  },
  {
   "cell_type": "code",
   "execution_count": null,
   "id": "f2a88936",
   "metadata": {},
   "outputs": [],
   "source": []
  }
 ],
 "metadata": {
  "kernelspec": {
   "display_name": "Python 3 (ipykernel)",
   "language": "python",
   "name": "python3"
  },
  "language_info": {
   "codemirror_mode": {
    "name": "ipython",
    "version": 3
   },
   "file_extension": ".py",
   "mimetype": "text/x-python",
   "name": "python",
   "nbconvert_exporter": "python",
   "pygments_lexer": "ipython3",
   "version": "3.10.9"
  }
 },
 "nbformat": 4,
 "nbformat_minor": 5
}
