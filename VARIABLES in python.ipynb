{
 "cells": [
  {
   "cell_type": "code",
   "execution_count": 1,
   "id": "db611c9a",
   "metadata": {},
   "outputs": [
    {
     "name": "stdout",
     "output_type": "stream",
     "text": [
      "hello world\n"
     ]
    }
   ],
   "source": [
    "print ('hello world')"
   ]
  },
  {
   "cell_type": "markdown",
   "id": "c1e6e161",
   "metadata": {},
   "source": [
    "# Variable in Python"
   ]
  },
  {
   "cell_type": "code",
   "execution_count": 3,
   "id": "8a0b0250",
   "metadata": {},
   "outputs": [
    {
     "name": "stdout",
     "output_type": "stream",
     "text": [
      "22\n"
     ]
    }
   ],
   "source": [
    "x= 22 \n",
    "print (x)"
   ]
  },
  {
   "cell_type": "code",
   "execution_count": 4,
   "id": "e4206286",
   "metadata": {},
   "outputs": [
    {
     "data": {
      "text/plain": [
       "int"
      ]
     },
     "execution_count": 4,
     "metadata": {},
     "output_type": "execute_result"
    }
   ],
   "source": [
    "type(x)"
   ]
  },
  {
   "cell_type": "code",
   "execution_count": 10,
   "id": "37316976",
   "metadata": {},
   "outputs": [
    {
     "name": "stdout",
     "output_type": "stream",
     "text": [
      "hello\n"
     ]
    }
   ],
   "source": [
    "y = 'Mint'\n",
    "Y = 'hello'\n",
    "print (Y)"
   ]
  },
  {
   "cell_type": "code",
   "execution_count": 8,
   "id": "c913d55a",
   "metadata": {},
   "outputs": [
    {
     "data": {
      "text/plain": [
       "str"
      ]
     },
     "execution_count": 8,
     "metadata": {},
     "output_type": "execute_result"
    }
   ],
   "source": [
    "type(y)"
   ]
  },
  {
   "cell_type": "code",
   "execution_count": 12,
   "id": "e7b0b922",
   "metadata": {},
   "outputs": [
    {
     "name": "stdout",
     "output_type": "stream",
     "text": [
      "CHocolate\n",
      "vanilla\n",
      "rocky road\n"
     ]
    }
   ],
   "source": [
    "x,y,z = 'CHocolate', 'vanilla', 'rocky road'\n",
    "print(x)\n",
    "print(y)\n",
    "print(z)"
   ]
  },
  {
   "cell_type": "code",
   "execution_count": 13,
   "id": "e17689e5",
   "metadata": {},
   "outputs": [
    {
     "name": "stdout",
     "output_type": "stream",
     "text": [
      "CHocolate\n",
      "vanilla\n",
      "rocky road\n"
     ]
    }
   ],
   "source": [
    "ice_cream = ['CHocolate', 'vanilla', 'rocky road']\n",
    "x,y,z = ice_cream\n",
    "print(x)\n",
    "print(y)\n",
    "print(z)"
   ]
  },
  {
   "cell_type": "code",
   "execution_count": null,
   "id": "99972a3c",
   "metadata": {},
   "outputs": [],
   "source": [
    " #camel space testVanillaCake \n",
    " #pascal TestVanillaCake\n",
    " #snake test_vanilla_cake"
   ]
  },
  {
   "cell_type": "code",
   "execution_count": 1,
   "id": "1728cb27",
   "metadata": {},
   "outputs": [],
   "source": [
    "# Camel Case\n",
    "\n",
    "#Test Variable Case\n",
    "\n",
    "testVariableCase = 'Vanilla Swirl'"
   ]
  },
  {
   "cell_type": "code",
   "execution_count": null,
   "id": "0fa80396",
   "metadata": {},
   "outputs": [],
   "source": [
    "# Pascal Case\n",
    "\n",
    "#Test Variable Case\n",
    "\n",
    "TestVariableCase = 'Vanilla Swirl'\n"
   ]
  },
  {
   "cell_type": "code",
   "execution_count": null,
   "id": "188b75c1",
   "metadata": {},
   "outputs": [],
   "source": [
    "# Snake Case\n",
    "\n",
    "#Test Variable Case\n",
    "\n",
    "test_variable_case = 'Vanilla Swirl'"
   ]
  },
  {
   "cell_type": "code",
   "execution_count": null,
   "id": "5be13a3f",
   "metadata": {},
   "outputs": [],
   "source": [
    "#Good ways to write variables\n",
    "\n",
    "testvar = 'Vanilla Swirl'\n",
    "test_var = 'Vanilla Swirl'\n",
    "_test_var = 'Vanilla Swirl'\n",
    "testVar = 'Vanilla Swirl'\n",
    "TestVar = 'Vanilla Swirl'\n",
    "testVar2 = 'Vanilla Swirl'\n"
   ]
  },
  {
   "cell_type": "code",
   "execution_count": null,
   "id": "b846cd49",
   "metadata": {},
   "outputs": [],
   "source": [
    "#Bad ways to write variables\n",
    "\n",
    "2testVar = 'Vanilla Swirl'\n",
    "test-Var2 = 'Vanilla Swirl'\n",
    "test Var2 = 'Vanilla Swirl'\n",
    "test,Var2 = 'Vanilla Swirl'"
   ]
  },
  {
   "cell_type": "code",
   "execution_count": 2,
   "id": "75e3584d",
   "metadata": {},
   "outputs": [
    {
     "ename": "TypeError",
     "evalue": "can only concatenate str (not \"int\") to str",
     "output_type": "error",
     "traceback": [
      "\u001b[1;31m---------------------------------------------------------------------------\u001b[0m",
      "\u001b[1;31mTypeError\u001b[0m                                 Traceback (most recent call last)",
      "Cell \u001b[1;32mIn[2], line 1\u001b[0m\n\u001b[1;32m----> 1\u001b[0m x \u001b[38;5;241m=\u001b[39m \u001b[38;5;124;43m'\u001b[39;49m\u001b[38;5;124;43mIce Cream is my favorite\u001b[39;49m\u001b[38;5;124;43m'\u001b[39;49m\u001b[43m \u001b[49m\u001b[38;5;241;43m+\u001b[39;49m\u001b[43m \u001b[49m\u001b[38;5;241;43m2\u001b[39;49m\n\u001b[0;32m      3\u001b[0m \u001b[38;5;28mprint\u001b[39m(x)\n",
      "\u001b[1;31mTypeError\u001b[0m: can only concatenate str (not \"int\") to str"
     ]
    }
   ],
   "source": [
    "x = 'Ice Cream is my favorite' + 2\n",
    "\n",
    "print(x)"
   ]
  },
  {
   "cell_type": "code",
   "execution_count": 3,
   "id": "890af3a1",
   "metadata": {},
   "outputs": [
    {
     "name": "stdout",
     "output_type": "stream",
     "text": [
      "5\n"
     ]
    }
   ],
   "source": [
    "y = 3 + 2\n",
    "\n",
    "print(y)"
   ]
  },
  {
   "cell_type": "code",
   "execution_count": 4,
   "id": "70bdc4d4",
   "metadata": {},
   "outputs": [
    {
     "name": "stdout",
     "output_type": "stream",
     "text": [
      "Jupiter is my favorite notebook.\n"
     ]
    }
   ],
   "source": [
    "x = 'Jupiter'\n",
    "y = ' is'\n",
    "z = ' my favorite notebook.'\n",
    "\n",
    "print(x+y+z)"
   ]
  },
  {
   "cell_type": "code",
   "execution_count": 5,
   "id": "ab5919c9",
   "metadata": {},
   "outputs": [
    {
     "name": "stdout",
     "output_type": "stream",
     "text": [
      "6\n"
     ]
    }
   ],
   "source": [
    "x = 1\n",
    "y = 2\n",
    "z = 3\n",
    "\n",
    "print(x+y+z)"
   ]
  },
  {
   "cell_type": "code",
   "execution_count": 6,
   "id": "4743b44f",
   "metadata": {},
   "outputs": [
    {
     "name": "stdout",
     "output_type": "stream",
     "text": [
      "Ice Cream 2\n"
     ]
    }
   ],
   "source": [
    "x = 'Ice Cream'\n",
    "y = 2\n",
    "\n",
    "\n",
    "print(x,y)\n"
   ]
  },
  {
   "cell_type": "code",
   "execution_count": null,
   "id": "e257f6ea",
   "metadata": {},
   "outputs": [],
   "source": []
  },
  {
   "cell_type": "code",
   "execution_count": null,
   "id": "e1fb5230",
   "metadata": {},
   "outputs": [],
   "source": []
  },
  {
   "cell_type": "code",
   "execution_count": null,
   "id": "a6b7898e",
   "metadata": {},
   "outputs": [],
   "source": []
  },
  {
   "cell_type": "code",
   "execution_count": null,
   "id": "b72be7d6",
   "metadata": {},
   "outputs": [],
   "source": []
  },
  {
   "cell_type": "code",
   "execution_count": null,
   "id": "6e137365",
   "metadata": {},
   "outputs": [],
   "source": []
  }
 ],
 "metadata": {
  "kernelspec": {
   "display_name": "Python 3 (ipykernel)",
   "language": "python",
   "name": "python3"
  },
  "language_info": {
   "codemirror_mode": {
    "name": "ipython",
    "version": 3
   },
   "file_extension": ".py",
   "mimetype": "text/x-python",
   "name": "python",
   "nbconvert_exporter": "python",
   "pygments_lexer": "ipython3",
   "version": "3.10.9"
  },
  "widgets": {
   "application/vnd.jupyter.widget-state+json": {
    "state": {},
    "version_major": 2,
    "version_minor": 0
   }
  }
 },
 "nbformat": 4,
 "nbformat_minor": 5
}
