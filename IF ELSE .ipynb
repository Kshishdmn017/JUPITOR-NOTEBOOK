{
 "cells": [
  {
   "cell_type": "markdown",
   "id": "1f02ce45",
   "metadata": {},
   "source": [
    "# if - Elif -Else Statements "
   ]
  },
  {
   "cell_type": "code",
   "execution_count": 8,
   "id": "a6b9972a",
   "metadata": {},
   "outputs": [
    {
     "name": "stdout",
     "output_type": "stream",
     "text": [
      "It worked!\n"
     ]
    }
   ],
   "source": [
    "if 25>10:\n",
    "    print ('It worked!')"
   ]
  },
  {
   "cell_type": "code",
   "execution_count": 11,
   "id": "b45b13d1",
   "metadata": {},
   "outputs": [
    {
     "name": "stdout",
     "output_type": "stream",
     "text": [
      "It didnot work ...\n"
     ]
    }
   ],
   "source": [
    "if 25<10:\n",
    "    print ('It worked!')\n",
    "else: \n",
    "    print('It didnot work ...')"
   ]
  },
  {
   "cell_type": "code",
   "execution_count": 25,
   "id": "c040de0c",
   "metadata": {},
   "outputs": [
    {
     "name": "stdout",
     "output_type": "stream",
     "text": [
      "It worked!\n",
      "this nested if staement worked!\n"
     ]
    }
   ],
   "source": [
    "if (5>10) or (1<3):\n",
    "    print ('It worked!')\n",
    "    if 10>5:\n",
    "        print ('this nested if staement worked!')\n",
    "elif 25>30:\n",
    "    print('ELIF worked 1')\n",
    "elif 20>19:\n",
    "    print('ELIF worked 2')\n",
    "elif 20>19:\n",
    "    print('ELIF worked 3')\n",
    "elif 16>19:\n",
    "    print('ELIF worked 4')    \n",
    "else: \n",
    "    print('It didnot work ...')"
   ]
  },
  {
   "cell_type": "markdown",
   "id": "2bdf5859",
   "metadata": {},
   "source": [
    "# For Loops"
   ]
  },
  {
   "cell_type": "code",
   "execution_count": 37,
   "id": "bb22e2fa",
   "metadata": {},
   "outputs": [],
   "source": [
    "Integers = [1,2,3,4,5]\n"
   ]
  },
  {
   "cell_type": "code",
   "execution_count": 41,
   "id": "adb3503a",
   "metadata": {},
   "outputs": [
    {
     "name": "stdout",
     "output_type": "stream",
     "text": [
      "2\n",
      "4\n",
      "6\n",
      "8\n",
      "10\n"
     ]
    }
   ],
   "source": [
    "for Jelly in Integers:\n",
    "    print(Jelly + Jelly)"
   ]
  },
  {
   "cell_type": "code",
   "execution_count": 44,
   "id": "6cbb5a7b",
   "metadata": {},
   "outputs": [],
   "source": [
    "ice_cream_dict = {'name':'sebian', 'weekly intake' : 5, 'favourite icecream': ['MNC','Chocolate']}"
   ]
  },
  {
   "cell_type": "code",
   "execution_count": 47,
   "id": "609f0129",
   "metadata": {},
   "outputs": [
    {
     "name": "stdout",
     "output_type": "stream",
     "text": [
      "name\n",
      "weekly intake\n",
      "favourite icecream\n"
     ]
    }
   ],
   "source": [
    "for cream in ice_cream_dict.keys():\n",
    "    print(cream)"
   ]
  },
  {
   "cell_type": "code",
   "execution_count": 52,
   "id": "ef0754b0",
   "metadata": {},
   "outputs": [
    {
     "name": "stdout",
     "output_type": "stream",
     "text": [
      "sebian\n",
      "5\n",
      "['MNC', 'Chocolate']\n"
     ]
    }
   ],
   "source": [
    "for name in ice_cream_dict.values():\n",
    "    print(name)"
   ]
  },
  {
   "cell_type": "code",
   "execution_count": 51,
   "id": "70767063",
   "metadata": {},
   "outputs": [
    {
     "name": "stdout",
     "output_type": "stream",
     "text": [
      "name = sebian\n",
      "weekly intake = 5\n",
      "favourite icecream = ['MNC', 'Chocolate']\n"
     ]
    }
   ],
   "source": [
    "for key, value in ice_cream_dict.items():\n",
    "    print(key,'=',value)"
   ]
  },
  {
   "cell_type": "markdown",
   "id": "42dc7c2a",
   "metadata": {},
   "source": [
    "# Nested Loops "
   ]
  },
  {
   "cell_type": "code",
   "execution_count": 53,
   "id": "049af2ff",
   "metadata": {},
   "outputs": [],
   "source": [
    "flavors =['Vanilla','Chocolate','Cookie Dough']\n",
    "toppings =['Hot Fudge','oreos','Marshmallows']"
   ]
  },
  {
   "cell_type": "code",
   "execution_count": 54,
   "id": "14990dec",
   "metadata": {},
   "outputs": [
    {
     "name": "stdout",
     "output_type": "stream",
     "text": [
      "Vanilla topped with Hot Fudge\n",
      "Vanilla topped with oreos\n",
      "Vanilla topped with Marshmallows\n",
      "Chocolate topped with Hot Fudge\n",
      "Chocolate topped with oreos\n",
      "Chocolate topped with Marshmallows\n",
      "Cookie Dough topped with Hot Fudge\n",
      "Cookie Dough topped with oreos\n",
      "Cookie Dough topped with Marshmallows\n"
     ]
    }
   ],
   "source": [
    "for A in flavors:\n",
    "    for B in toppings:\n",
    "        print (A,'topped with',B)"
   ]
  },
  {
   "cell_type": "markdown",
   "id": "54422b6b",
   "metadata": {},
   "source": [
    "# Functions"
   ]
  },
  {
   "cell_type": "code",
   "execution_count": 56,
   "id": "5e1e6c6e",
   "metadata": {},
   "outputs": [],
   "source": [
    "def first_function():\n",
    "    print('MyFirstFunction')"
   ]
  },
  {
   "cell_type": "code",
   "execution_count": 57,
   "id": "75450fe9",
   "metadata": {},
   "outputs": [
    {
     "name": "stdout",
     "output_type": "stream",
     "text": [
      "MyFirstFunction\n"
     ]
    }
   ],
   "source": [
    "first_function()"
   ]
  },
  {
   "cell_type": "code",
   "execution_count": 60,
   "id": "278f1fec",
   "metadata": {},
   "outputs": [],
   "source": [
    "#SQAURING A NUMBER  \n",
    "def number_squared(number):\n",
    "    print(number**2)\n",
    "    "
   ]
  },
  {
   "cell_type": "code",
   "execution_count": 63,
   "id": "40a68af7",
   "metadata": {},
   "outputs": [
    {
     "name": "stdout",
     "output_type": "stream",
     "text": [
      "15129\n"
     ]
    }
   ],
   "source": [
    "number_squared(123)"
   ]
  },
  {
   "cell_type": "code",
   "execution_count": 79,
   "id": "9ce1f2c3",
   "metadata": {},
   "outputs": [],
   "source": [
    "#to put a formula  argumnets \n",
    "\n",
    "args_tuple = (5,2,3,4,5)\n",
    "\n",
    "def number_args(*number):\n",
    "    print(number[0]*number[1]/number[2])"
   ]
  },
  {
   "cell_type": "code",
   "execution_count": 80,
   "id": "ca6737ab",
   "metadata": {},
   "outputs": [
    {
     "name": "stdout",
     "output_type": "stream",
     "text": [
      "3.3333333333333335\n"
     ]
    }
   ],
   "source": [
    "number_args(*args_tuple)"
   ]
  },
  {
   "cell_type": "code",
   "execution_count": 87,
   "id": "1b62cdb6",
   "metadata": {},
   "outputs": [],
   "source": [
    "#MULTIPLYING A NUMBER BY ANY POWER VALUE \n",
    "def number_squared_custom(number,power):\n",
    "    print(number**power)"
   ]
  },
  {
   "cell_type": "code",
   "execution_count": 90,
   "id": "b3c59fe7",
   "metadata": {},
   "outputs": [
    {
     "name": "stdout",
     "output_type": "stream",
     "text": [
      "64\n"
     ]
    }
   ],
   "source": [
    "number_squared_custom(power= 6,number = 2)"
   ]
  },
  {
   "cell_type": "code",
   "execution_count": 117,
   "id": "2c1dcc94",
   "metadata": {},
   "outputs": [],
   "source": [
    "#keyword argument \n",
    "def number_kwarg(**number):\n",
    "    print('My number is :' + number ['integer'] + ' and My other number is :' + number['integer2'])\n",
    "    "
   ]
  },
  {
   "cell_type": "code",
   "execution_count": 118,
   "id": "6a6a2ce0",
   "metadata": {},
   "outputs": [
    {
     "name": "stdout",
     "output_type": "stream",
     "text": [
      "My number is : 2309 and My other number is : 4\n"
     ]
    }
   ],
   "source": [
    "number_kwarg(integer = ' 2309', integer2 =' 4')"
   ]
  },
  {
   "cell_type": "code",
   "execution_count": null,
   "id": "ab0d6416",
   "metadata": {},
   "outputs": [],
   "source": []
  },
  {
   "cell_type": "code",
   "execution_count": null,
   "id": "307f384f",
   "metadata": {},
   "outputs": [],
   "source": []
  },
  {
   "cell_type": "code",
   "execution_count": null,
   "id": "de7b7ac1",
   "metadata": {},
   "outputs": [],
   "source": []
  },
  {
   "cell_type": "code",
   "execution_count": null,
   "id": "c5f11376",
   "metadata": {},
   "outputs": [],
   "source": []
  },
  {
   "cell_type": "code",
   "execution_count": null,
   "id": "ddc56074",
   "metadata": {},
   "outputs": [],
   "source": []
  },
  {
   "cell_type": "code",
   "execution_count": null,
   "id": "7bde89a6",
   "metadata": {},
   "outputs": [],
   "source": []
  },
  {
   "cell_type": "code",
   "execution_count": null,
   "id": "96f7cf5a",
   "metadata": {},
   "outputs": [],
   "source": []
  },
  {
   "cell_type": "code",
   "execution_count": null,
   "id": "d5c36adc",
   "metadata": {},
   "outputs": [],
   "source": []
  },
  {
   "cell_type": "code",
   "execution_count": null,
   "id": "4d602e59",
   "metadata": {},
   "outputs": [],
   "source": []
  },
  {
   "cell_type": "code",
   "execution_count": null,
   "id": "a5fd4826",
   "metadata": {},
   "outputs": [],
   "source": []
  }
 ],
 "metadata": {
  "kernelspec": {
   "display_name": "Python 3 (ipykernel)",
   "language": "python",
   "name": "python3"
  },
  "language_info": {
   "codemirror_mode": {
    "name": "ipython",
    "version": 3
   },
   "file_extension": ".py",
   "mimetype": "text/x-python",
   "name": "python",
   "nbconvert_exporter": "python",
   "pygments_lexer": "ipython3",
   "version": "3.10.9"
  }
 },
 "nbformat": 4,
 "nbformat_minor": 5
}
